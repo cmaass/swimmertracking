{
 "metadata": {
  "name": ""
 },
 "nbformat": 3,
 "nbformat_minor": 0,
 "worksheets": [
  {
   "cells": [
    {
     "cell_type": "code",
     "collapsed": false,
     "input": [
      "from numpy import *\n",
      "from matplotlib import pyplot as pl\n",
      "from scipy import interpolate as sip\n",
      "import readtraces as rt\n",
      "import os\n",
      "import sys\n",
      "dr=['/media/corinna/corinna-data/', '/media/corinna-data/', '/media/cmdata/datagoe/gunnar']\n",
      "wd=['/home/cmaass/goettingen/python/swimmertracking/','/home/corinna/python/swimmertracking/']\n",
      "for p in dr: \n",
      "    if os.path.exists(p): dataroot=p\n",
      "for p in wd: \n",
      "    if os.path.exists(p): workdir=p\n",
      "if not workdir in sys.path: sys.path.append(workdir)\n",
      "print dataroot, workdir\n",
      "%matplotlib inline"
     ],
     "language": "python",
     "metadata": {},
     "outputs": [
      {
       "output_type": "stream",
       "stream": "stdout",
       "text": [
        "/media/cmdata/datagoe/gunnar /home/cmaass/goettingen/python/swimmertracking/\n"
       ]
      }
     ],
     "prompt_number": 15
    },
    {
     "cell_type": "code",
     "collapsed": false,
     "input": [
      "import readtraces as rt"
     ],
     "language": "python",
     "metadata": {},
     "outputs": [],
     "prompt_number": 16
    },
    {
     "cell_type": "code",
     "collapsed": false,
     "input": [
      "ls /media/cmdata/datagoe/gunnar/"
     ],
     "language": "python",
     "metadata": {},
     "outputs": [
      {
       "output_type": "stream",
       "stream": "stdout",
       "text": [
        "\u001b[0m\u001b[01;34macrylamide-140209\u001b[0m/  gelatine.zip                      mov28.11.-12fps.avi-stitched.avi    mov29.11.-12fps.jpg\r\n",
        "\u001b[01;34macrylamide-140210\u001b[0m/  mov14.11.-12fps.avi               \u001b[01;34mmov28.11.-12fps.avi-stitched-data\u001b[0m/  test.avi\r\n",
        "\u001b[01;34macrylamide-140211\u001b[0m/  mov14.11.-12fps.avi-stitched.jpg  mov28.11.-12fps.jpg                 \u001b[01;34mtest-data\u001b[0m/\r\n",
        "contourtest.png     \u001b[01;34mmov14.11.-12fps-data\u001b[0m/             mov29.11.-12fps.avi                 test.jpg\r\n",
        "\u001b[01;34mdensity matching\u001b[0m/   mov14.11.-12fps.jpg               mov29.11.-12fps.avi-stitched.avi\r\n",
        "\u001b[01;34mgelatine\u001b[0m/           mov28.11.-12fps.avi               \u001b[01;34mmov29.11.-12fps.avi-stitched-data\u001b[0m/\r\n"
       ]
      }
     ],
     "prompt_number": 8
    },
    {
     "cell_type": "code",
     "collapsed": false,
     "input": [
      "test = loadtxt('/home/cmaass/goettingen/python/swimmertracking/meshcoordtest.txt')"
     ],
     "language": "python",
     "metadata": {},
     "outputs": [],
     "prompt_number": 12
    },
    {
     "cell_type": "code",
     "collapsed": false,
     "input": [
      "[list(x[x>-1].astype(int)) for x in test]"
     ],
     "language": "python",
     "metadata": {},
     "outputs": [
      {
       "metadata": {},
       "output_type": "pyout",
       "prompt_number": 14,
       "text": [
        "[[0, 1, 2],\n",
        " [0, 2, 3],\n",
        " [0, 3, 4],\n",
        " [0, 4, 5],\n",
        " [0, 5, 6],\n",
        " [0, 6, 1],\n",
        " [1, 2, 8, 7],\n",
        " [2, 8, 9],\n",
        " [2, 9, 10],\n",
        " [2, 3, 11, 10],\n",
        " [3, 4, 12, 11],\n",
        " [5, 4, 12, 13],\n",
        " [5, 13, 14],\n",
        " [5, 14, 15],\n",
        " [6, 5, 15, 16],\n",
        " [1, 6, 16, 17],\n",
        " [7, 8, 18, 17],\n",
        " [8, 9, 19, 18],\n",
        " [9, 10, 20, 19],\n",
        " [10, 11, 21, 20],\n",
        " [11, 12, 22, 21],\n",
        " [12, 13, 23, 22],\n",
        " [13, 14, 24, 23],\n",
        " [14, 15, 25, 24],\n",
        " [15, 16, 26, 25],\n",
        " [16, 7, 26, 7],\n",
        " [17, 18, 28, 27],\n",
        " [18, 19, 28],\n",
        " [19, 20, 28],\n",
        " [20, 21, 29, 28],\n",
        " [21, 22, 30, 29],\n",
        " [22, 23, 31, 30],\n",
        " [23, 24, 31],\n",
        " [24, 25, 31],\n",
        " [25, 26, 32, 31],\n",
        " [17, 26, 32, 27],\n",
        " [27, 28, 33],\n",
        " [28, 29, 33],\n",
        " [29, 30, 33],\n",
        " [30, 31, 33],\n",
        " [31, 32, 33],\n",
        " [32, 27, 33]]"
       ]
      }
     ],
     "prompt_number": 14
    },
    {
     "cell_type": "code",
     "collapsed": false,
     "input": [],
     "language": "python",
     "metadata": {},
     "outputs": []
    }
   ],
   "metadata": {}
  }
 ]
}