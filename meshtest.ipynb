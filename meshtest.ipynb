{
 "metadata": {
  "name": "",
  "signature": "sha256:676f784eea6111e4ddfa3ed74d8039232417f0434bebfe5e3f11377693dfa71f"
 },
 "nbformat": 3,
 "nbformat_minor": 0,
 "worksheets": [
  {
   "cells": [
    {
     "cell_type": "code",
     "collapsed": false,
     "input": [
      "from numpy import *\n",
      "from matplotlib import pyplot as pl\n",
      "from matplotlib import cm\n",
      "from mpl_toolkits.mplot3d import Axes3D\n",
      "from scipy import interpolate as sip\n",
      "import readtraces as rt\n",
      "import os\n",
      "import sys\n",
      "from glob import glob\n",
      "import cPickle\n",
      "dr=['/media/corinna/corinna-data/', '/media/corinna-data/', '/media/cmdata/datagoe/gunnar/','/windows/D/datagoe/gunnar/']\n",
      "wd=['/home/cmaass/goettingen/python/swimmertracking/','/home/corinna/python/swimmertracking/']\n",
      "for p in dr: \n",
      "    if os.path.exists(p): dataroot=p\n",
      "for p in wd: \n",
      "    if os.path.exists(p): workdir=p\n",
      "if not workdir in sys.path: sys.path.append(workdir)\n",
      "print dataroot, workdir\n",
      "# %matplotlib inline\n",
      "\n",
      "#scipy cookbook http://wiki.scipy.org/Cookbook/SignalSmooth\n",
      "def smooth(x,window_len=11,window='hanning'):\n",
      "    \"\"\"smooth the data using a window with requested size.\n",
      "    \n",
      "    This method is based on the convolution of a scaled window with the signal.\n",
      "    The signal is prepared by introducing reflected copies of the signal \n",
      "    (with the window size) in both ends so that transient parts are minimized\n",
      "    in the begining and end part of the output signal.\n",
      "    \n",
      "    input:\n",
      "        x: the input signal \n",
      "        window_len: the dimension of the smoothing window; should be an odd integer\n",
      "        window: the type of window from 'flat', 'hanning', 'hamming', 'bartlett', 'blackman'\n",
      "            flat window will produce a moving average smoothing.\n",
      "\n",
      "    output:\n",
      "        the smoothed signal\n",
      "        \n",
      "    example:\n",
      "\n",
      "    t=linspace(-2,2,0.1)\n",
      "    x=sin(t)+randn(len(t))*0.1\n",
      "    y=smooth(x)\n",
      "    \n",
      "    see also: \n",
      "    \n",
      "    numpy.hanning, numpy.hamming, numpy.bartlett, numpy.blackman, numpy.convolve\n",
      "    scipy.signal.lfilter\n",
      " \n",
      "    TODO: the window parameter could be the window itself if an array instead of a string\n",
      "    NOTE: length(output) != length(input), to correct this: return y[(window_len/2-1):-(window_len/2)] instead of just y.\n",
      "    \"\"\"\n",
      "\n",
      "    if x.ndim != 1:\n",
      "        raise ValueError, \"smooth only accepts 1 dimension arrays.\"\n",
      "\n",
      "    if x.size < window_len:\n",
      "        raise ValueError, \"Input vector needs to be bigger than window size.\"\n",
      "\n",
      "\n",
      "    if window_len<3:\n",
      "        return x\n",
      "\n",
      "\n",
      "    if not window in ['flat', 'hanning', 'hamming', 'bartlett', 'blackman']:\n",
      "        raise ValueError, \"Window is on of 'flat', 'hanning', 'hamming', 'bartlett', 'blackman'\"\n",
      "\n",
      "\n",
      "    s=r_[x[window_len-1:0:-1],x,x[-1:-window_len:-1]]\n",
      "    #print(len(s))\n",
      "    if window == 'flat': #moving average\n",
      "        w=ones(window_len,'d')\n",
      "    else:\n",
      "        w=eval(window+'(window_len)')\n",
      "\n",
      "    y=convolve(w/w.sum(),s,mode='valid')\n",
      "    return y\n",
      "\n",
      "\n"
     ],
     "language": "python",
     "metadata": {},
     "outputs": [
      {
       "output_type": "stream",
       "stream": "stdout",
       "text": [
        "/media/cmdata/datagoe/gunnar/ /home/cmaass/goettingen/python/swimmertracking/\n"
       ]
      }
     ],
     "prompt_number": 82
    },
    {
     "cell_type": "code",
     "collapsed": false,
     "input": [
      "reload(rt)"
     ],
     "language": "python",
     "metadata": {},
     "outputs": [
      {
       "metadata": {},
       "output_type": "pyout",
       "prompt_number": 89,
       "text": [
        "<module 'readtraces' from 'readtraces.py'>"
       ]
      }
     ],
     "prompt_number": 89
    },
    {
     "cell_type": "code",
     "collapsed": false,
     "input": [
      "img=glob(dataroot+'acrylamide-140211/acrylamide*.JPG')[0]\n",
      "mov=rt.imStack(img)\n",
      "mov.readParas()\n",
      "print mov.parameters\n",
      "mov.extractCoords(contours=True)"
     ],
     "language": "python",
     "metadata": {},
     "outputs": [
      {
       "output_type": "stream",
       "stream": "stdout",
       "text": [
        "{'diskfit': False, 'struct': 5, 'sphericity': -1.0, 'spacing': 1, 'invert': True, 'framerate': -1.0, 'mask': True, 'blobsize': (10, 2000), 'frames': 106, 'sizepreview': True, 'crop': (734, 1333, 1521, 2163), 'blur': 1, 'threshold': 70, 'framelim': (0, 106), 'channel': 2, 'imsize': (2304, 3456)}\n",
        "frame 0 time 0:00:00.000343 # particles 0\n",
        "# blobs: "
       ]
      },
      {
       "output_type": "stream",
       "stream": "stdout",
       "text": [
        " 24\n",
        "Warning, monochrome image!"
       ]
      },
      {
       "output_type": "stream",
       "stream": "stdout",
       "text": [
        "\n",
        "Warning, monochrome image!"
       ]
      },
      {
       "output_type": "stream",
       "stream": "stdout",
       "text": [
        "\n",
        "Warning, monochrome image!"
       ]
      },
      {
       "output_type": "stream",
       "stream": "stdout",
       "text": [
        "\n",
        "Warning, monochrome image!"
       ]
      },
      {
       "output_type": "stream",
       "stream": "stdout",
       "text": [
        "\n",
        "Warning, monochrome image!"
       ]
      },
      {
       "output_type": "stream",
       "stream": "stdout",
       "text": [
        "\n",
        "Warning, monochrome image!"
       ]
      },
      {
       "output_type": "stream",
       "stream": "stdout",
       "text": [
        "\n",
        "Warning, monochrome image!"
       ]
      },
      {
       "output_type": "stream",
       "stream": "stdout",
       "text": [
        "\n",
        "Warning, monochrome image!"
       ]
      },
      {
       "output_type": "stream",
       "stream": "stdout",
       "text": [
        "\n",
        "Warning, monochrome image!"
       ]
      },
      {
       "output_type": "stream",
       "stream": "stdout",
       "text": [
        "\n",
        "Warning, monochrome image!"
       ]
      },
      {
       "output_type": "stream",
       "stream": "stdout",
       "text": [
        "\n",
        "Warning, monochrome image!"
       ]
      },
      {
       "output_type": "stream",
       "stream": "stdout",
       "text": [
        "\n",
        "Warning, monochrome image!"
       ]
      },
      {
       "output_type": "stream",
       "stream": "stdout",
       "text": [
        "\n",
        "Warning, monochrome image!"
       ]
      },
      {
       "output_type": "stream",
       "stream": "stdout",
       "text": [
        "\n",
        "Warning, monochrome image!"
       ]
      },
      {
       "output_type": "stream",
       "stream": "stdout",
       "text": [
        "\n",
        "Warning, monochrome image!"
       ]
      },
      {
       "output_type": "stream",
       "stream": "stdout",
       "text": [
        "\n",
        "Warning, monochrome image!"
       ]
      },
      {
       "output_type": "stream",
       "stream": "stdout",
       "text": [
        "\n",
        "Warning, monochrome image!"
       ]
      },
      {
       "output_type": "stream",
       "stream": "stdout",
       "text": [
        "\n",
        "Warning, monochrome image!"
       ]
      },
      {
       "output_type": "stream",
       "stream": "stdout",
       "text": [
        "\n",
        "Warning, monochrome image!"
       ]
      },
      {
       "output_type": "stream",
       "stream": "stdout",
       "text": [
        "\n",
        "Warning, monochrome image!"
       ]
      },
      {
       "output_type": "stream",
       "stream": "stdout",
       "text": [
        "\n",
        "Warning, monochrome image!"
       ]
      },
      {
       "output_type": "stream",
       "stream": "stdout",
       "text": [
        "\n",
        "Warning, monochrome image!"
       ]
      },
      {
       "output_type": "stream",
       "stream": "stdout",
       "text": [
        "\n",
        "Warning, monochrome image!"
       ]
      },
      {
       "output_type": "stream",
       "stream": "stdout",
       "text": [
        "\n",
        "Warning, monochrome image!"
       ]
      },
      {
       "output_type": "stream",
       "stream": "stdout",
       "text": [
        "\n",
        "Warning, monochrome image!"
       ]
      },
      {
       "output_type": "stream",
       "stream": "stdout",
       "text": [
        "\n",
        "Warning, monochrome image!"
       ]
      },
      {
       "output_type": "stream",
       "stream": "stdout",
       "text": [
        "\n",
        "Warning, monochrome image!"
       ]
      },
      {
       "output_type": "stream",
       "stream": "stdout",
       "text": [
        "\n"
       ]
      }
     ],
     "prompt_number": 90
    },
    {
     "cell_type": "code",
     "collapsed": false,
     "input": [
      "with open(mov.datadir+'contours.pkl', 'rb') as f:\n",
      "    conts=cPickle.load(f)\n",
      "mov.CoordtoTraj(tempfile='coords.txt',lenlim=2,lossmargin=0,maxdist=40)"
     ],
     "language": "python",
     "metadata": {},
     "outputs": [
      {
       "output_type": "stream",
       "stream": "stdout",
       "text": [
        "closed trajectory:  7 40\n",
        "closed trajectory:  25 40\n",
        "closed trajectory:  26 40\n",
        "closed trajectory:  27 40\n",
        "closed trajectory:  28 40\n",
        "no particles left in this frame 10.0 59\n",
        "closed trajectory:  87 40\n",
        "closed trajectory:  90 40\n",
        "closed trajectory:  110 40\n",
        "closed trajectory:  126 40\n",
        "closed trajectory:  141 40\n",
        "trajectories: 1\n",
        "closed trajectory:  188 6.32455532034\n"
       ]
      }
     ],
     "prompt_number": 100
    },
    {
     "cell_type": "code",
     "collapsed": false,
     "input": [
      "mov.loadTrajectories()\n",
      "print conts.keys()\n",
      "\n",
      "\n",
      "# test = loadtxt('meshcoordtest.txt')\n",
      "# [list(x[x>-1].astype(int)) for x in test]"
     ],
     "language": "python",
     "metadata": {},
     "outputs": [
      {
       "output_type": "stream",
       "stream": "stdout",
       "text": [
        "['28-1', '28-0', '28-3', '28-2', '28-4', '100-1', '100-0', '72-0', '70-0', '72-2', '2-2', '26-1', '70-1', '103-0', '103-1', '88-0', '0-4', '32-0', '32-1', '32-2', '30-2', '68-3', '30-0', '22-0', '25-0', '25-1', '25-2', '4-0', '66-5', '66-4', '66-3', '66-2', '66-1', '75-2', '75-1', '72-1', '4-3', '11-1', '11-0', '4-4', '104-0', '68-1', '68-0', '12-0', '68-2', '77-1', '77-0', '66-0', '4-7', '74-2', '74-0', '74-1', '26-0', '24-1', '21-0', '24-0', '42-0', '98-0', '98-1', '40-4', '40-3', '40-2', '40-1', '40-0', '7-5', '0-19', '62-0', '4-6', '15-0', '49-0', '1-0', '64-1', '64-0', '64-3', '64-2', '31-1', '37-1', '37-0', '37-3', '37-2', '34-2', '34-3', '34-0', '34-1', '33-0', '39-3', '39-2', '39-1', '39-0', '39-4', '6-6', '6-4', '6-5', '6-2', '6-3', '6-0', '6-1', '4-2', '47-0', '45-0', '8-0', '8-1', '83-0', '42-1', '0-5', '71-1', '71-0', '76-0', '76-1', '29-0', '29-1', '29-2', '29-3', '101-0', '101-1', '27-2', '27-3', '27-0', '27-1', '80-0', '87-0', '38-2', '89-0', '38-3', '23-0', '0-23', '0-22', '0-21', '0-20', '9-0', '67-2', '67-3', '67-0', '2-1', '0-0', '0-1', '67-4', '0-3', '30-1', '65-0', '65-1', '65-2', '65-3', '13-0', '50-0', '5-1', '105-0', '5-0', '0-16', '4-1', '0-14', '0-15', '0-12', '0-13', '0-10', '0-11', '7-3', '7-2', '7-1', '7-0', '0-18', '7-4', '35-0', '10-0', '73-0', '0-6', '3-5', '2-3', '0-17', '69-0', '102-1', '42-2', '102-0', '41-2', '41-0', '41-1', '2-0', '67-1', '0-7', '44-0', '2-4', '4-5', '67-5', '63-0', '63-1', '54-0', '14-0', '31-0', '81-0', '81-1', '1-1', '0-8', '1-3', '1-2', '33-1', '35-2', '35-1', '0-9', '36-4', '36-5', '36-0', '36-1', '36-2', '36-3', '82-1', '82-0', '38-0', '38-1', '5-5', '5-4', '5-7', '5-6', '99-1', '99-0', '5-3', '5-2', '75-0', '3-4', '3-3', '3-2', '3-1', '3-0', '51-0', '0-2', '33-2', '1-4']\n"
       ]
      }
     ],
     "prompt_number": 101
    },
    {
     "cell_type": "code",
     "collapsed": false,
     "input": [],
     "language": "python",
     "metadata": {},
     "outputs": [],
     "prompt_number": 101
    },
    {
     "cell_type": "code",
     "collapsed": false,
     "input": [
      "mov.blenderPrep()"
     ],
     "language": "python",
     "metadata": {},
     "outputs": [],
     "prompt_number": 102
    },
    {
     "cell_type": "code",
     "collapsed": false,
     "input": [
      "t = arange(0, 1.1, .1)\n",
      "x = sin(2*pi*t)\n",
      "y = cos(2*pi*t)\n",
      "tck,u = sip.splprep([x,y], s=0)\n",
      "unew = arange(0, 1.01, 0.01)\n",
      "out = sip.splev(unew, tck)\n",
      "pl.plot(x, y, 'x', out[0], out[1], sin(2*pi*unew), cos(2*pi*unew), x, y, 'b')\n",
      "pl.legend(['Linear', 'Cubic Spline', 'True'])\n",
      "pl.axis([-1.05, 1.05, -1.05, 1.05])\n",
      "pl.title('Spline of parametrically-defined curve')\n",
      "# pl.show()"
     ],
     "language": "python",
     "metadata": {},
     "outputs": [
      {
       "metadata": {},
       "output_type": "pyout",
       "prompt_number": 40,
       "text": [
        "<matplotlib.text.Text at 0x3f2ac10>"
       ]
      }
     ],
     "prompt_number": 40
    },
    {
     "cell_type": "code",
     "collapsed": false,
     "input": [
      "pwd"
     ],
     "language": "python",
     "metadata": {},
     "outputs": [],
     "prompt_number": "*"
    },
    {
     "cell_type": "code",
     "collapsed": false,
     "input": [
      "c=mov.parameters['crop']\n",
      "print c[3]-c[1],c[2]-c[0]"
     ],
     "language": "python",
     "metadata": {},
     "outputs": [
      {
       "output_type": "stream",
       "stream": "stdout",
       "text": [
        "909 833\n"
       ]
      }
     ],
     "prompt_number": 42
    },
    {
     "cell_type": "code",
     "collapsed": false,
     "input": [
      "data=loadtxt('pointfile.txt')[1:-1,:]\n",
      "\n",
      "fig = pl.figure()\n",
      "ax = fig.gca(projection='3d')\n",
      "for i in range(4):\n",
      "    z = [i]*9\n",
      "    x = data[i*9:(i+1)*9,0]\n",
      "    y = data[i*9:(i+1)*9,1]\n",
      "    ax.plot(x, y, z, label='%d'%i)\n",
      "ax.legend()\n",
      "\n",
      "pl.show()"
     ],
     "language": "python",
     "metadata": {},
     "outputs": [],
     "prompt_number": "*"
    },
    {
     "cell_type": "code",
     "collapsed": false,
     "input": [
      "data"
     ],
     "language": "python",
     "metadata": {},
     "outputs": [
      {
       "metadata": {},
       "output_type": "pyout",
       "prompt_number": 37,
       "text": [
        "array([[ 164.25,  343.25,   72.  ],\n",
        "       [ 158.  ,  345.75,   72.  ],\n",
        "       [ 169.  ,  353.25,   72.  ],\n",
        "       [ 187.5 ,  361.  ,   72.  ],\n",
        "       [ 195.  ,  362.25,   72.  ],\n",
        "       [ 193.5 ,  359.  ,   72.  ],\n",
        "       [ 180.  ,  346.75,   72.  ],\n",
        "       [ 168.25,  342.75,   72.  ],\n",
        "       [ 164.25,  343.25,   72.  ],\n",
        "       [ 157.25,  331.25,   73.  ],\n",
        "       [ 162.5 ,  331.25,   73.  ],\n",
        "       [ 172.75,  340.5 ,   73.  ],\n",
        "       [ 188.25,  347.75,   73.  ],\n",
        "       [ 192.25,  349.  ,   73.  ],\n",
        "       [ 191.25,  342.75,   73.  ],\n",
        "       [ 186.5 ,  335.25,   73.  ],\n",
        "       [ 166.5 ,  330.25,   73.  ],\n",
        "       [ 157.25,  331.25,   73.  ],\n",
        "       [ 168.  ,  340.75,   74.  ],\n",
        "       [ 166.75,  345.  ,   74.  ],\n",
        "       [ 181.  ,  353.75,   74.  ],\n",
        "       [ 189.25,  357.75,   74.  ],\n",
        "       [ 196.25,  360.75,   74.  ],\n",
        "       [ 193.25,  349.5 ,   74.  ],\n",
        "       [ 183.  ,  344.75,   74.  ],\n",
        "       [ 173.25,  340.5 ,   74.  ],\n",
        "       [ 168.  ,  340.75,   74.  ],\n",
        "       [ 171.  ,  332.25,   75.  ],\n",
        "       [ 170.25,  333.  ,   75.  ],\n",
        "       [ 174.  ,  339.75,   75.  ],\n",
        "       [ 186.75,  342.25,   75.  ],\n",
        "       [ 193.75,  346.25,   75.  ],\n",
        "       [ 187.75,  337.75,   75.  ],\n",
        "       [ 181.5 ,  333.25,   75.  ],\n",
        "       [ 175.5 ,  331.75,   75.  ],\n",
        "       [ 171.  ,  332.25,   75.  ]])"
       ]
      }
     ],
     "prompt_number": 37
    },
    {
     "cell_type": "code",
     "collapsed": false,
     "input": [
      "t1.data.shape\n"
     ],
     "language": "python",
     "metadata": {},
     "outputs": [
      {
       "metadata": {},
       "output_type": "pyout",
       "prompt_number": 88,
       "text": [
        "(4, 5)"
       ]
      }
     ],
     "prompt_number": 88
    },
    {
     "cell_type": "code",
     "collapsed": false,
     "input": [
      "mov.datadir"
     ],
     "language": "python",
     "metadata": {},
     "outputs": [
      {
       "metadata": {},
       "output_type": "pyout",
       "prompt_number": 71,
       "text": [
        "'/media/cmdata/datagoe/gunnar/acrylamide-140211/acrylamide-150211--data/'"
       ]
      }
     ],
     "prompt_number": 71
    },
    {
     "cell_type": "code",
     "collapsed": false,
     "input": [],
     "language": "python",
     "metadata": {},
     "outputs": []
    }
   ],
   "metadata": {}
  }
 ]
}