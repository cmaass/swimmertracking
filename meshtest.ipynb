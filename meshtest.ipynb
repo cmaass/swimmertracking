{
 "metadata": {
  "name": "",
  "signature": "sha256:0ed1230177857e62df6c378b81820fcaa5e8dc603c1a16b30f59332ea5d57ef7"
 },
 "nbformat": 3,
 "nbformat_minor": 0,
 "worksheets": [
  {
   "cells": [
    {
     "cell_type": "code",
     "collapsed": false,
     "input": [
      "from numpy import *\n",
      "from matplotlib import pyplot as pl\n",
      "from scipy import interpolate as sip\n",
      "import readtraces as rt\n",
      "import os\n",
      "import sys\n",
      "from glob import glob\n",
      "import cPickle\n",
      "dr=['/media/corinna/corinna-data/', '/media/corinna-data/', '/media/cmdata/datagoe/gunnar/','/windows/D/datagoe/gunnar/']\n",
      "wd=['/home/cmaass/goettingen/python/swimmertracking/','/home/corinna/python/swimmertracking/']\n",
      "for p in dr: \n",
      "    if os.path.exists(p): dataroot=p\n",
      "for p in wd: \n",
      "    if os.path.exists(p): workdir=p\n",
      "if not workdir in sys.path: sys.path.append(workdir)\n",
      "print dataroot, workdir\n",
      "%matplotlib inline\n",
      "\n",
      "#scipy cookbook http://wiki.scipy.org/Cookbook/SignalSmooth\n",
      "def smooth(x,window_len=11,window='hanning'):\n",
      "    \"\"\"smooth the data using a window with requested size.\n",
      "    \n",
      "    This method is based on the convolution of a scaled window with the signal.\n",
      "    The signal is prepared by introducing reflected copies of the signal \n",
      "    (with the window size) in both ends so that transient parts are minimized\n",
      "    in the begining and end part of the output signal.\n",
      "    \n",
      "    input:\n",
      "        x: the input signal \n",
      "        window_len: the dimension of the smoothing window; should be an odd integer\n",
      "        window: the type of window from 'flat', 'hanning', 'hamming', 'bartlett', 'blackman'\n",
      "            flat window will produce a moving average smoothing.\n",
      "\n",
      "    output:\n",
      "        the smoothed signal\n",
      "        \n",
      "    example:\n",
      "\n",
      "    t=linspace(-2,2,0.1)\n",
      "    x=sin(t)+randn(len(t))*0.1\n",
      "    y=smooth(x)\n",
      "    \n",
      "    see also: \n",
      "    \n",
      "    numpy.hanning, numpy.hamming, numpy.bartlett, numpy.blackman, numpy.convolve\n",
      "    scipy.signal.lfilter\n",
      " \n",
      "    TODO: the window parameter could be the window itself if an array instead of a string\n",
      "    NOTE: length(output) != length(input), to correct this: return y[(window_len/2-1):-(window_len/2)] instead of just y.\n",
      "    \"\"\"\n",
      "\n",
      "    if x.ndim != 1:\n",
      "        raise ValueError, \"smooth only accepts 1 dimension arrays.\"\n",
      "\n",
      "    if x.size < window_len:\n",
      "        raise ValueError, \"Input vector needs to be bigger than window size.\"\n",
      "\n",
      "\n",
      "    if window_len<3:\n",
      "        return x\n",
      "\n",
      "\n",
      "    if not window in ['flat', 'hanning', 'hamming', 'bartlett', 'blackman']:\n",
      "        raise ValueError, \"Window is on of 'flat', 'hanning', 'hamming', 'bartlett', 'blackman'\"\n",
      "\n",
      "\n",
      "    s=r_[x[window_len-1:0:-1],x,x[-1:-window_len:-1]]\n",
      "    #print(len(s))\n",
      "    if window == 'flat': #moving average\n",
      "        w=ones(window_len,'d')\n",
      "    else:\n",
      "        w=eval(window+'(window_len)')\n",
      "\n",
      "    y=convolve(w/w.sum(),s,mode='valid')\n",
      "    return y\n",
      "\n",
      "\n"
     ],
     "language": "python",
     "metadata": {},
     "outputs": [
      {
       "output_type": "stream",
       "stream": "stdout",
       "text": [
        "/windows/D/datagoe/gunnar/ /home/corinna/python/swimmertracking/\n"
       ]
      }
     ],
     "prompt_number": 102
    },
    {
     "cell_type": "code",
     "collapsed": false,
     "input": [
      "reload(rt)"
     ],
     "language": "python",
     "metadata": {},
     "outputs": [
      {
       "metadata": {},
       "output_type": "pyout",
       "prompt_number": 78,
       "text": [
        "<module 'readtraces' from 'readtraces.py'>"
       ]
      }
     ],
     "prompt_number": 78
    },
    {
     "cell_type": "code",
     "collapsed": false,
     "input": [
      "img=glob(dataroot+'acrylamide-140210/acrylamide*.JPG')[0]\n",
      "mov=rt.imStack(img)\n",
      "mov.readParas()\n",
      "print mov.parameters\n",
      "# mov.extractCoords(contours=True)"
     ],
     "language": "python",
     "metadata": {},
     "outputs": [
      {
       "output_type": "stream",
       "stream": "stdout",
       "text": [
        "{'framelim': (0, 83), 'struct': 3, 'sphericity': -1.0, 'spacing': 1, 'invert': True, 'framerate': -1.0, 'mask': True, 'blobsize': (5, 300), 'threshold': 60, 'sizepreview': True, 'crop': (708, 1325, 1595, 2132), 'blur': 1, 'frames': 83, 'diskfit': False, 'channel': 2, 'imsize': (2304, 3456)}\n"
       ]
      }
     ],
     "prompt_number": 79
    },
    {
     "cell_type": "code",
     "collapsed": false,
     "input": [
      "with open(dataroot+'acrylamide-140210/acrylamide140210_-data/contours.pkl', 'rb') as f:\n",
      "    conts=cPickle.load(f)\n",
      "mov.CoordtoTraj(tempfile='coords.txt',lenlim=1,lossmargin=0,maxdist=500)"
     ],
     "language": "python",
     "metadata": {},
     "outputs": [
      {
       "output_type": "stream",
       "stream": "stdout",
       "text": [
        "closed trajectory:  3 500\n",
        "closed trajectory:  4 500\n",
        "closed trajectory:  5 500\n",
        "trajectories: 2\n",
        "closed trajectory:  8 22.360679775\n",
        "closed trajectory:  7 22.360679775\n"
       ]
      }
     ],
     "prompt_number": 80
    },
    {
     "cell_type": "code",
     "collapsed": false,
     "input": [
      "mov.loadTrajectories()\n",
      "for t in mov.trajectories.values(): print t.number, t.data\n",
      "print conts.keys()\n",
      "\n",
      "\n",
      "# test = loadtxt('meshcoordtest.txt')\n",
      "# [list(x[x>-1].astype(int)) for x in test]"
     ],
     "language": "python",
     "metadata": {},
     "outputs": [
      {
       "output_type": "stream",
       "stream": "stdout",
       "text": [
        "8 [[  72.      1.    130.    222.5    70.82]\n",
        " [  73.      1.    144.5   212.5    88.32]\n",
        " [  74.      1.    143.55  197.87   98.96]\n",
        " [  75.      1.    149.    211.5    74.16]\n",
        " [  76.      1.    147.5   199.     90.82]]\n",
        "3 [[   7.      0.    456.    528.89  170.39]\n",
        " [   8.      0.    449.    535.17  196.74]\n",
        " [   9.      0.    440.    547.5   264.13]\n",
        " [  10.      0.    449.    538.35  226.38]]\n",
        "4 [[   9.      1.    428.5   227.     54.16]\n",
        " [  10.      0.    437.    217.5    24.16]]\n",
        "5 [[  11.      0.    428.    549.5   194.14]\n",
        " [  12.      0.    439.    543.    133.32]\n",
        " [  13.      0.    434.    550.5   154.15]\n",
        " [  14.      0.    444.    539.     66.66]]\n",
        "7 [[   72.       0.     150.5    387.     734.07]\n",
        " [   73.       0.     162.5    381.    1600.63]\n",
        " [   74.       0.     161.5    365.5   1568.14]\n",
        " [   75.       0.     167.41   377.59  1143.4 ]\n",
        " [   76.       0.     168.     365.     643.25]]\n",
        "['70-0', '71-1', '71-0', '76-0', '76-1', '72-0', '72-1', '6-0', '14-0', '4-0', '10-0', '13-0', '11-0', '12-0', '9-1', '9-0', '75-1', '75-0', '5-0', '7-0', '74-0', '74-1', '73-1', '73-0', '8-0', '8-1']\n"
       ]
      }
     ],
     "prompt_number": 84
    },
    {
     "cell_type": "code",
     "collapsed": false,
     "input": [
      "t1=mov.trajectories[7]\n",
      "keys=[r[0].replace('.','-') for r in t1.data[:,:1].astype(str)]\n",
      "for c in keys: print c, len(conts[c])"
     ],
     "language": "python",
     "metadata": {},
     "outputs": [
      {
       "output_type": "stream",
       "stream": "stdout",
       "text": [
        "72-0 61\n",
        "73-0 49\n",
        "74-0 47\n",
        "75-0 36\n",
        "76-0 10\n"
       ]
      }
     ],
     "prompt_number": 119
    },
    {
     "cell_type": "code",
     "collapsed": false,
     "input": [
      "print keys[-1]\n",
      "nfac=8\n",
      "\n",
      "with open('pointfile.txt', 'a') as pointfile:\n",
      "    pointfile.write('%.2f %.2f %.2f \\n'%tuple(t1.data[0,[2,3,0]]))\n",
      "    for i in range(len(keys)):\n",
      "        zvals=array([int(keys[i].split('-')[0])]*nfac)\n",
      "        data=conts[keys[i]].flatten().reshape(-1,2)\n",
      "        x,y=data[:,0],data[:,1]\n",
      "        xnew,ynew=smooth(x,5),smooth(y,5)\n",
      "        print len(xnew), len(x)\n",
      "        inds=linspace(0,len(xnew)-1,nfac).astype(int)\n",
      "        print inds\n",
      "        savetxt(pointfile,vstack((xnew[inds],ynew[inds],zvals)).T, fmt='%.2f')\n",
      "    pointfile.write('%.2f %.2f %.2f'%tuple(t1.data[-1,[2,3,0]]))\n",
      "\n",
      "b=array([[0,i-1,i,-1] for i in range(2,8)])\n",
      "moreverts=[[k-1,k,j+nfac*k,j+nfac*k-1] for j in range(nfac) for k in range(len(keys))]\n",
      "print b,moreverts"
     ],
     "language": "python",
     "metadata": {},
     "outputs": [
      {
       "output_type": "stream",
       "stream": "stdout",
       "text": [
        "76-0\n",
        "65 61\n",
        "[ 0  9 18 27 36 45 54 64]\n",
        "53 49\n",
        "[ 0  7 14 22 29 37 44 52]\n",
        "51 47\n",
        "[ 0  7 14 21 28 35 42 50]\n",
        "40 36\n",
        "[ 0  5 11 16 22 27 33 39]\n",
        "14 10\n",
        "[ 0  1  3  5  7  9 11 13]\n",
        "[[ 0  1  2 -1]\n",
        " [ 0  2  3 -1]\n",
        " [ 0  3  4 -1]\n",
        " [ 0  4  5 -1]\n",
        " [ 0  5  6 -1]\n",
        " [ 0  6  7 -1]] [[-1, 0, 0, -1], [0, 1, 8, 7], [1, 2, 16, 15], [2, 3, 24, 23], [3, 4, 32, 31], [-1, 0, 1, 0], [0, 1, 9, 8], [1, 2, 17, 16], [2, 3, 25, 24], [3, 4, 33, 32], [-1, 0, 2, 1], [0, 1, 10, 9], [1, 2, 18, 17], [2, 3, 26, 25], [3, 4, 34, 33], [-1, 0, 3, 2], [0, 1, 11, 10], [1, 2, 19, 18], [2, 3, 27, 26], [3, 4, 35, 34], [-1, 0, 4, 3], [0, 1, 12, 11], [1, 2, 20, 19], [2, 3, 28, 27], [3, 4, 36, 35], [-1, 0, 5, 4], [0, 1, 13, 12], [1, 2, 21, 20], [2, 3, 29, 28], [3, 4, 37, 36], [-1, 0, 6, 5], [0, 1, 14, 13], [1, 2, 22, 21], [2, 3, 30, 29], [3, 4, 38, 37], [-1, 0, 7, 6], [0, 1, 15, 14], [1, 2, 23, 22], [2, 3, 31, 30], [3, 4, 39, 38]]\n"
       ]
      }
     ],
     "prompt_number": 168
    },
    {
     "cell_type": "code",
     "collapsed": false,
     "input": [
      "t = arange(0, 1.1, .1)\n",
      "x = sin(2*pi*t)\n",
      "y = cos(2*pi*t)\n",
      "tck,u = sip.splprep([x,y], s=0)\n",
      "unew = arange(0, 1.01, 0.01)\n",
      "out = sip.splev(unew, tck)\n",
      "pl.plot(x, y, 'x', out[0], out[1], sin(2*pi*unew), cos(2*pi*unew), x, y, 'b')\n",
      "pl.legend(['Linear', 'Cubic Spline', 'True'])\n",
      "pl.axis([-1.05, 1.05, -1.05, 1.05])\n",
      "pl.title('Spline of parametrically-defined curve')\n",
      "# plt.show()"
     ],
     "language": "python",
     "metadata": {},
     "outputs": [
      {
       "metadata": {},
       "output_type": "pyout",
       "prompt_number": 98,
       "text": [
        "<matplotlib.text.Text at 0x7f73acdb6f10>"
       ]
      },
      {
       "metadata": {},
       "output_type": "display_data",
       "png": "[encoded data removed]",
       "text": [
        "<matplotlib.figure.Figure at 0x7f73acedf810>"
       ]
      }
     ],
     "prompt_number": 98
    },
    {
     "cell_type": "code",
     "collapsed": false,
     "input": [
      "i=7\n",
      "for f in range(20,40):\n",
      "    print len(arange(f)[::f/10])"
     ],
     "language": "python",
     "metadata": {},
     "outputs": [
      {
       "output_type": "stream",
       "stream": "stdout",
       "text": [
        "10\n",
        "11\n",
        "11\n",
        "12\n",
        "12\n",
        "13\n",
        "13\n",
        "14\n",
        "14\n",
        "15\n",
        "10\n",
        "11\n",
        "11\n",
        "11\n",
        "12\n",
        "12\n",
        "12\n",
        "13\n",
        "13\n",
        "13\n"
       ]
      }
     ],
     "prompt_number": 109
    },
    {
     "cell_type": "code",
     "collapsed": false,
     "input": [
      "help(linspace)"
     ],
     "language": "python",
     "metadata": {},
     "outputs": [
      {
       "output_type": "stream",
       "stream": "stdout",
       "text": [
        "Help on function linspace in module numpy.core.function_base:\n",
        "\n",
        "linspace(start, stop, num=50, endpoint=True, retstep=False)\n",
        "    Return evenly spaced numbers over a specified interval.\n",
        "    \n",
        "    Returns `num` evenly spaced samples, calculated over the\n",
        "    interval [`start`, `stop` ].\n",
        "    \n",
        "    The endpoint of the interval can optionally be excluded.\n",
        "    \n",
        "    Parameters\n",
        "    ----------\n",
        "    start : scalar\n",
        "        The starting value of the sequence.\n",
        "    stop : scalar\n",
        "        The end value of the sequence, unless `endpoint` is set to False.\n",
        "        In that case, the sequence consists of all but the last of ``num + 1``\n",
        "        evenly spaced samples, so that `stop` is excluded.  Note that the step\n",
        "        size changes when `endpoint` is False.\n",
        "    num : int, optional\n",
        "        Number of samples to generate. Default is 50.\n",
        "    endpoint : bool, optional\n",
        "        If True, `stop` is the last sample. Otherwise, it is not included.\n",
        "        Default is True.\n",
        "    retstep : bool, optional\n",
        "        If True, return (`samples`, `step`), where `step` is the spacing\n",
        "        between samples.\n",
        "    \n",
        "    Returns\n",
        "    -------\n",
        "    samples : ndarray\n",
        "        There are `num` equally spaced samples in the closed interval\n",
        "        ``[start, stop]`` or the half-open interval ``[start, stop)``\n",
        "        (depending on whether `endpoint` is True or False).\n",
        "    step : float (only if `retstep` is True)\n",
        "        Size of spacing between samples.\n",
        "    \n",
        "    \n",
        "    See Also\n",
        "    --------\n",
        "    arange : Similar to `linspace`, but uses a step size (instead of the\n",
        "             number of samples).\n",
        "    logspace : Samples uniformly distributed in log space.\n",
        "    \n",
        "    Examples\n",
        "    --------\n",
        "    >>> np.linspace(2.0, 3.0, num=5)\n",
        "        array([ 2.  ,  2.25,  2.5 ,  2.75,  3.  ])\n",
        "    >>> np.linspace(2.0, 3.0, num=5, endpoint=False)\n",
        "        array([ 2. ,  2.2,  2.4,  2.6,  2.8])\n",
        "    >>> np.linspace(2.0, 3.0, num=5, retstep=True)\n",
        "        (array([ 2.  ,  2.25,  2.5 ,  2.75,  3.  ]), 0.25)\n",
        "    \n",
        "    Graphical illustration:\n",
        "    \n",
        "    >>> import matplotlib.pyplot as plt\n",
        "    >>> N = 8\n",
        "    >>> y = np.zeros(N)\n",
        "    >>> x1 = np.linspace(0, 10, N, endpoint=True)\n",
        "    >>> x2 = np.linspace(0, 10, N, endpoint=False)\n",
        "    >>> plt.plot(x1, y, 'o')\n",
        "    [<matplotlib.lines.Line2D object at 0x...>]\n",
        "    >>> plt.plot(x2, y + 0.5, 'o')\n",
        "    [<matplotlib.lines.Line2D object at 0x...>]\n",
        "    >>> plt.ylim([-0.5, 1])\n",
        "    (-0.5, 1)\n",
        "    >>> plt.show()\n",
        "\n"
       ]
      }
     ],
     "prompt_number": 121
    },
    {
     "cell_type": "code",
     "collapsed": false,
     "input": [
      "pwd"
     ],
     "language": "python",
     "metadata": {},
     "outputs": [
      {
       "metadata": {},
       "output_type": "pyout",
       "prompt_number": 146,
       "text": [
        "u'/home/corinna/python/swimmertracking'"
       ]
      }
     ],
     "prompt_number": 146
    },
    {
     "cell_type": "code",
     "collapsed": false,
     "input": [],
     "language": "python",
     "metadata": {},
     "outputs": []
    }
   ],
   "metadata": {}
  }
 ]
}